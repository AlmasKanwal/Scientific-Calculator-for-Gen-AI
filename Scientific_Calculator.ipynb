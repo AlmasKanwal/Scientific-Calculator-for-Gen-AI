{
  "nbformat": 4,
  "nbformat_minor": 0,
  "metadata": {
    "colab": {
      "provenance": [],
      "authorship_tag": "ABX9TyMgrjU40ljClTj2YLZGh0rs",
      "include_colab_link": true
    },
    "kernelspec": {
      "name": "python3",
      "display_name": "Python 3"
    },
    "language_info": {
      "name": "python"
    },
    "widgets": {
      "application/vnd.jupyter.widget-state+json": {
        "46e2a8173a9c44c4a2f651a635b094a6": {
          "model_module": "@jupyter-widgets/controls",
          "model_name": "TextModel",
          "model_module_version": "1.5.0",
          "state": {
            "_dom_classes": [],
            "_model_module": "@jupyter-widgets/controls",
            "_model_module_version": "1.5.0",
            "_model_name": "TextModel",
            "_view_count": null,
            "_view_module": "@jupyter-widgets/controls",
            "_view_module_version": "1.5.0",
            "_view_name": "TextView",
            "continuous_update": true,
            "description": "Expression:",
            "description_tooltip": null,
            "disabled": false,
            "layout": "IPY_MODEL_06658f17710a44f8b5990b4f640f5aac",
            "placeholder": "Enter expression",
            "style": "IPY_MODEL_4a42c1fc487d4f76bcb91d2e16821df2",
            "value": ""
          }
        },
        "06658f17710a44f8b5990b4f640f5aac": {
          "model_module": "@jupyter-widgets/base",
          "model_name": "LayoutModel",
          "model_module_version": "1.2.0",
          "state": {
            "_model_module": "@jupyter-widgets/base",
            "_model_module_version": "1.2.0",
            "_model_name": "LayoutModel",
            "_view_count": null,
            "_view_module": "@jupyter-widgets/base",
            "_view_module_version": "1.2.0",
            "_view_name": "LayoutView",
            "align_content": null,
            "align_items": null,
            "align_self": null,
            "border": null,
            "bottom": null,
            "display": null,
            "flex": null,
            "flex_flow": null,
            "grid_area": null,
            "grid_auto_columns": null,
            "grid_auto_flow": null,
            "grid_auto_rows": null,
            "grid_column": null,
            "grid_gap": null,
            "grid_row": null,
            "grid_template_areas": null,
            "grid_template_columns": null,
            "grid_template_rows": null,
            "height": null,
            "justify_content": null,
            "justify_items": null,
            "left": null,
            "margin": null,
            "max_height": null,
            "max_width": null,
            "min_height": null,
            "min_width": null,
            "object_fit": null,
            "object_position": null,
            "order": null,
            "overflow": null,
            "overflow_x": null,
            "overflow_y": null,
            "padding": null,
            "right": null,
            "top": null,
            "visibility": null,
            "width": "400px"
          }
        },
        "4a42c1fc487d4f76bcb91d2e16821df2": {
          "model_module": "@jupyter-widgets/controls",
          "model_name": "DescriptionStyleModel",
          "model_module_version": "1.5.0",
          "state": {
            "_model_module": "@jupyter-widgets/controls",
            "_model_module_version": "1.5.0",
            "_model_name": "DescriptionStyleModel",
            "_view_count": null,
            "_view_module": "@jupyter-widgets/base",
            "_view_module_version": "1.2.0",
            "_view_name": "StyleView",
            "description_width": ""
          }
        },
        "44d5022357904949930c393a3fec114a": {
          "model_module": "@jupyter-widgets/controls",
          "model_name": "TextModel",
          "model_module_version": "1.5.0",
          "state": {
            "_dom_classes": [],
            "_model_module": "@jupyter-widgets/controls",
            "_model_module_version": "1.5.0",
            "_model_name": "TextModel",
            "_view_count": null,
            "_view_module": "@jupyter-widgets/controls",
            "_view_module_version": "1.5.0",
            "_view_name": "TextView",
            "continuous_update": true,
            "description": "Result:",
            "description_tooltip": null,
            "disabled": false,
            "layout": "IPY_MODEL_e3d67f4ba240446cba032ee739cf08ba",
            "placeholder": "Result",
            "style": "IPY_MODEL_bb8528e350ec4852b19d8281563f75d3",
            "value": ""
          }
        },
        "e3d67f4ba240446cba032ee739cf08ba": {
          "model_module": "@jupyter-widgets/base",
          "model_name": "LayoutModel",
          "model_module_version": "1.2.0",
          "state": {
            "_model_module": "@jupyter-widgets/base",
            "_model_module_version": "1.2.0",
            "_model_name": "LayoutModel",
            "_view_count": null,
            "_view_module": "@jupyter-widgets/base",
            "_view_module_version": "1.2.0",
            "_view_name": "LayoutView",
            "align_content": null,
            "align_items": null,
            "align_self": null,
            "border": null,
            "bottom": null,
            "display": null,
            "flex": null,
            "flex_flow": null,
            "grid_area": null,
            "grid_auto_columns": null,
            "grid_auto_flow": null,
            "grid_auto_rows": null,
            "grid_column": null,
            "grid_gap": null,
            "grid_row": null,
            "grid_template_areas": null,
            "grid_template_columns": null,
            "grid_template_rows": null,
            "height": null,
            "justify_content": null,
            "justify_items": null,
            "left": null,
            "margin": null,
            "max_height": null,
            "max_width": null,
            "min_height": null,
            "min_width": null,
            "object_fit": null,
            "object_position": null,
            "order": null,
            "overflow": null,
            "overflow_x": null,
            "overflow_y": null,
            "padding": null,
            "right": null,
            "top": null,
            "visibility": null,
            "width": "400px"
          }
        },
        "bb8528e350ec4852b19d8281563f75d3": {
          "model_module": "@jupyter-widgets/controls",
          "model_name": "DescriptionStyleModel",
          "model_module_version": "1.5.0",
          "state": {
            "_model_module": "@jupyter-widgets/controls",
            "_model_module_version": "1.5.0",
            "_model_name": "DescriptionStyleModel",
            "_view_count": null,
            "_view_module": "@jupyter-widgets/base",
            "_view_module_version": "1.2.0",
            "_view_name": "StyleView",
            "description_width": ""
          }
        },
        "d46e034644c84f18b0701af11d6f7a6d": {
          "model_module": "@jupyter-widgets/controls",
          "model_name": "GridBoxModel",
          "model_module_version": "1.5.0",
          "state": {
            "_dom_classes": [],
            "_model_module": "@jupyter-widgets/controls",
            "_model_module_version": "1.5.0",
            "_model_name": "GridBoxModel",
            "_view_count": null,
            "_view_module": "@jupyter-widgets/controls",
            "_view_module_version": "1.5.0",
            "_view_name": "GridBoxView",
            "box_style": "",
            "children": [
              "IPY_MODEL_bdee42d97fd4456b82205ec9d6b65112",
              "IPY_MODEL_37aa6768993f4823a17769aed6bdca52",
              "IPY_MODEL_f2ddd664a0024b068d2609ba938a0bde",
              "IPY_MODEL_1606f77f0ec84a91a8d217de5b1641ec",
              "IPY_MODEL_35fca7320b914fcb93585d9b9fc90192",
              "IPY_MODEL_3c1b8fb5671f4d0882417b24788b91f0",
              "IPY_MODEL_8eaf307df9a04bb5b66cc3a9b809b0bb",
              "IPY_MODEL_bf73de4fe11a49b498e2317c2c5ab11c",
              "IPY_MODEL_1afa2f7050a04d8db0db62b325189782",
              "IPY_MODEL_95d7be5a3923479e80325f6e178fb39c",
              "IPY_MODEL_b529ad9bfcb845a4a938831f1bd65527",
              "IPY_MODEL_f1ba87951ea34c73a5e53ad60179ebe1",
              "IPY_MODEL_65beec3f8aea43ec89ca6323c3924ad0",
              "IPY_MODEL_92648fb9e356429fa9ef85d966f2d3bf",
              "IPY_MODEL_dbd59842d5e94fa2a728b60aedfe88e9",
              "IPY_MODEL_ae5f89b6a5364e728f57bf53295b75b8",
              "IPY_MODEL_b79117128d7e4f098f9e10690af3fefc",
              "IPY_MODEL_8a011150d29a411b95ede8e9cdb8268d",
              "IPY_MODEL_c944fca1f98b41719473d541f0dd77da",
              "IPY_MODEL_61b4cea4173d4bf48ba14c4057a70242"
            ],
            "layout": "IPY_MODEL_b5397370b18244cfb00fe4ea0c78b769"
          }
        },
        "bdee42d97fd4456b82205ec9d6b65112": {
          "model_module": "@jupyter-widgets/controls",
          "model_name": "ButtonModel",
          "model_module_version": "1.5.0",
          "state": {
            "_dom_classes": [],
            "_model_module": "@jupyter-widgets/controls",
            "_model_module_version": "1.5.0",
            "_model_name": "ButtonModel",
            "_view_count": null,
            "_view_module": "@jupyter-widgets/controls",
            "_view_module_version": "1.5.0",
            "_view_name": "ButtonView",
            "button_style": "",
            "description": "7",
            "disabled": false,
            "icon": "",
            "layout": "IPY_MODEL_b5545694984640c487398916f8b56959",
            "style": "IPY_MODEL_659379e0d9f4456fa29353c9fb8ffca3",
            "tooltip": ""
          }
        },
        "37aa6768993f4823a17769aed6bdca52": {
          "model_module": "@jupyter-widgets/controls",
          "model_name": "ButtonModel",
          "model_module_version": "1.5.0",
          "state": {
            "_dom_classes": [],
            "_model_module": "@jupyter-widgets/controls",
            "_model_module_version": "1.5.0",
            "_model_name": "ButtonModel",
            "_view_count": null,
            "_view_module": "@jupyter-widgets/controls",
            "_view_module_version": "1.5.0",
            "_view_name": "ButtonView",
            "button_style": "",
            "description": "8",
            "disabled": false,
            "icon": "",
            "layout": "IPY_MODEL_b5545694984640c487398916f8b56959",
            "style": "IPY_MODEL_456de6f48d3445dfb35a5f6ef42a7bef",
            "tooltip": ""
          }
        },
        "f2ddd664a0024b068d2609ba938a0bde": {
          "model_module": "@jupyter-widgets/controls",
          "model_name": "ButtonModel",
          "model_module_version": "1.5.0",
          "state": {
            "_dom_classes": [],
            "_model_module": "@jupyter-widgets/controls",
            "_model_module_version": "1.5.0",
            "_model_name": "ButtonModel",
            "_view_count": null,
            "_view_module": "@jupyter-widgets/controls",
            "_view_module_version": "1.5.0",
            "_view_name": "ButtonView",
            "button_style": "",
            "description": "9",
            "disabled": false,
            "icon": "",
            "layout": "IPY_MODEL_b5545694984640c487398916f8b56959",
            "style": "IPY_MODEL_19b08495b71a4cada56b4fe3bd232e23",
            "tooltip": ""
          }
        },
        "1606f77f0ec84a91a8d217de5b1641ec": {
          "model_module": "@jupyter-widgets/controls",
          "model_name": "ButtonModel",
          "model_module_version": "1.5.0",
          "state": {
            "_dom_classes": [],
            "_model_module": "@jupyter-widgets/controls",
            "_model_module_version": "1.5.0",
            "_model_name": "ButtonModel",
            "_view_count": null,
            "_view_module": "@jupyter-widgets/controls",
            "_view_module_version": "1.5.0",
            "_view_name": "ButtonView",
            "button_style": "",
            "description": "/",
            "disabled": false,
            "icon": "",
            "layout": "IPY_MODEL_b5545694984640c487398916f8b56959",
            "style": "IPY_MODEL_447c8632cf7f443382def472fb33683a",
            "tooltip": ""
          }
        },
        "35fca7320b914fcb93585d9b9fc90192": {
          "model_module": "@jupyter-widgets/controls",
          "model_name": "ButtonModel",
          "model_module_version": "1.5.0",
          "state": {
            "_dom_classes": [],
            "_model_module": "@jupyter-widgets/controls",
            "_model_module_version": "1.5.0",
            "_model_name": "ButtonModel",
            "_view_count": null,
            "_view_module": "@jupyter-widgets/controls",
            "_view_module_version": "1.5.0",
            "_view_name": "ButtonView",
            "button_style": "",
            "description": "sqrt",
            "disabled": false,
            "icon": "",
            "layout": "IPY_MODEL_b5545694984640c487398916f8b56959",
            "style": "IPY_MODEL_7c1116d61f784eef99061ab40d13014f",
            "tooltip": ""
          }
        },
        "3c1b8fb5671f4d0882417b24788b91f0": {
          "model_module": "@jupyter-widgets/controls",
          "model_name": "ButtonModel",
          "model_module_version": "1.5.0",
          "state": {
            "_dom_classes": [],
            "_model_module": "@jupyter-widgets/controls",
            "_model_module_version": "1.5.0",
            "_model_name": "ButtonModel",
            "_view_count": null,
            "_view_module": "@jupyter-widgets/controls",
            "_view_module_version": "1.5.0",
            "_view_name": "ButtonView",
            "button_style": "",
            "description": "4",
            "disabled": false,
            "icon": "",
            "layout": "IPY_MODEL_b5545694984640c487398916f8b56959",
            "style": "IPY_MODEL_109ceac2d8d44e2486c93bab9bc21984",
            "tooltip": ""
          }
        },
        "8eaf307df9a04bb5b66cc3a9b809b0bb": {
          "model_module": "@jupyter-widgets/controls",
          "model_name": "ButtonModel",
          "model_module_version": "1.5.0",
          "state": {
            "_dom_classes": [],
            "_model_module": "@jupyter-widgets/controls",
            "_model_module_version": "1.5.0",
            "_model_name": "ButtonModel",
            "_view_count": null,
            "_view_module": "@jupyter-widgets/controls",
            "_view_module_version": "1.5.0",
            "_view_name": "ButtonView",
            "button_style": "",
            "description": "5",
            "disabled": false,
            "icon": "",
            "layout": "IPY_MODEL_b5545694984640c487398916f8b56959",
            "style": "IPY_MODEL_901681cde6b740d6afde446e1dda2cc6",
            "tooltip": ""
          }
        },
        "bf73de4fe11a49b498e2317c2c5ab11c": {
          "model_module": "@jupyter-widgets/controls",
          "model_name": "ButtonModel",
          "model_module_version": "1.5.0",
          "state": {
            "_dom_classes": [],
            "_model_module": "@jupyter-widgets/controls",
            "_model_module_version": "1.5.0",
            "_model_name": "ButtonModel",
            "_view_count": null,
            "_view_module": "@jupyter-widgets/controls",
            "_view_module_version": "1.5.0",
            "_view_name": "ButtonView",
            "button_style": "",
            "description": "6",
            "disabled": false,
            "icon": "",
            "layout": "IPY_MODEL_b5545694984640c487398916f8b56959",
            "style": "IPY_MODEL_d00c3f198e1f4cd3a4876117ce5cfb02",
            "tooltip": ""
          }
        },
        "1afa2f7050a04d8db0db62b325189782": {
          "model_module": "@jupyter-widgets/controls",
          "model_name": "ButtonModel",
          "model_module_version": "1.5.0",
          "state": {
            "_dom_classes": [],
            "_model_module": "@jupyter-widgets/controls",
            "_model_module_version": "1.5.0",
            "_model_name": "ButtonModel",
            "_view_count": null,
            "_view_module": "@jupyter-widgets/controls",
            "_view_module_version": "1.5.0",
            "_view_name": "ButtonView",
            "button_style": "",
            "description": "*",
            "disabled": false,
            "icon": "",
            "layout": "IPY_MODEL_b5545694984640c487398916f8b56959",
            "style": "IPY_MODEL_0c9e20f6e6f54116857936eaf32d50e3",
            "tooltip": ""
          }
        },
        "95d7be5a3923479e80325f6e178fb39c": {
          "model_module": "@jupyter-widgets/controls",
          "model_name": "ButtonModel",
          "model_module_version": "1.5.0",
          "state": {
            "_dom_classes": [],
            "_model_module": "@jupyter-widgets/controls",
            "_model_module_version": "1.5.0",
            "_model_name": "ButtonModel",
            "_view_count": null,
            "_view_module": "@jupyter-widgets/controls",
            "_view_module_version": "1.5.0",
            "_view_name": "ButtonView",
            "button_style": "",
            "description": "pow",
            "disabled": false,
            "icon": "",
            "layout": "IPY_MODEL_b5545694984640c487398916f8b56959",
            "style": "IPY_MODEL_6c829675b98a446c82b1e5f2d97c1daa",
            "tooltip": ""
          }
        },
        "b529ad9bfcb845a4a938831f1bd65527": {
          "model_module": "@jupyter-widgets/controls",
          "model_name": "ButtonModel",
          "model_module_version": "1.5.0",
          "state": {
            "_dom_classes": [],
            "_model_module": "@jupyter-widgets/controls",
            "_model_module_version": "1.5.0",
            "_model_name": "ButtonModel",
            "_view_count": null,
            "_view_module": "@jupyter-widgets/controls",
            "_view_module_version": "1.5.0",
            "_view_name": "ButtonView",
            "button_style": "",
            "description": "1",
            "disabled": false,
            "icon": "",
            "layout": "IPY_MODEL_b5545694984640c487398916f8b56959",
            "style": "IPY_MODEL_d29972cf888a4685932efabd2ac3679b",
            "tooltip": ""
          }
        },
        "f1ba87951ea34c73a5e53ad60179ebe1": {
          "model_module": "@jupyter-widgets/controls",
          "model_name": "ButtonModel",
          "model_module_version": "1.5.0",
          "state": {
            "_dom_classes": [],
            "_model_module": "@jupyter-widgets/controls",
            "_model_module_version": "1.5.0",
            "_model_name": "ButtonModel",
            "_view_count": null,
            "_view_module": "@jupyter-widgets/controls",
            "_view_module_version": "1.5.0",
            "_view_name": "ButtonView",
            "button_style": "",
            "description": "2",
            "disabled": false,
            "icon": "",
            "layout": "IPY_MODEL_b5545694984640c487398916f8b56959",
            "style": "IPY_MODEL_abdc1815bbbb4d348089238d655320d3",
            "tooltip": ""
          }
        },
        "65beec3f8aea43ec89ca6323c3924ad0": {
          "model_module": "@jupyter-widgets/controls",
          "model_name": "ButtonModel",
          "model_module_version": "1.5.0",
          "state": {
            "_dom_classes": [],
            "_model_module": "@jupyter-widgets/controls",
            "_model_module_version": "1.5.0",
            "_model_name": "ButtonModel",
            "_view_count": null,
            "_view_module": "@jupyter-widgets/controls",
            "_view_module_version": "1.5.0",
            "_view_name": "ButtonView",
            "button_style": "",
            "description": "3",
            "disabled": false,
            "icon": "",
            "layout": "IPY_MODEL_b5545694984640c487398916f8b56959",
            "style": "IPY_MODEL_30af7d0bc3124339a231bb6a0e434178",
            "tooltip": ""
          }
        },
        "92648fb9e356429fa9ef85d966f2d3bf": {
          "model_module": "@jupyter-widgets/controls",
          "model_name": "ButtonModel",
          "model_module_version": "1.5.0",
          "state": {
            "_dom_classes": [],
            "_model_module": "@jupyter-widgets/controls",
            "_model_module_version": "1.5.0",
            "_model_name": "ButtonModel",
            "_view_count": null,
            "_view_module": "@jupyter-widgets/controls",
            "_view_module_version": "1.5.0",
            "_view_name": "ButtonView",
            "button_style": "",
            "description": "-",
            "disabled": false,
            "icon": "",
            "layout": "IPY_MODEL_b5545694984640c487398916f8b56959",
            "style": "IPY_MODEL_b543d907ec4a434ab53d93ea4017db15",
            "tooltip": ""
          }
        },
        "dbd59842d5e94fa2a728b60aedfe88e9": {
          "model_module": "@jupyter-widgets/controls",
          "model_name": "ButtonModel",
          "model_module_version": "1.5.0",
          "state": {
            "_dom_classes": [],
            "_model_module": "@jupyter-widgets/controls",
            "_model_module_version": "1.5.0",
            "_model_name": "ButtonModel",
            "_view_count": null,
            "_view_module": "@jupyter-widgets/controls",
            "_view_module_version": "1.5.0",
            "_view_name": "ButtonView",
            "button_style": "",
            "description": "log",
            "disabled": false,
            "icon": "",
            "layout": "IPY_MODEL_b5545694984640c487398916f8b56959",
            "style": "IPY_MODEL_e915e6e432ec43f1ba6924e8dcac2fcc",
            "tooltip": ""
          }
        },
        "ae5f89b6a5364e728f57bf53295b75b8": {
          "model_module": "@jupyter-widgets/controls",
          "model_name": "ButtonModel",
          "model_module_version": "1.5.0",
          "state": {
            "_dom_classes": [],
            "_model_module": "@jupyter-widgets/controls",
            "_model_module_version": "1.5.0",
            "_model_name": "ButtonModel",
            "_view_count": null,
            "_view_module": "@jupyter-widgets/controls",
            "_view_module_version": "1.5.0",
            "_view_name": "ButtonView",
            "button_style": "",
            "description": "0",
            "disabled": false,
            "icon": "",
            "layout": "IPY_MODEL_b5545694984640c487398916f8b56959",
            "style": "IPY_MODEL_2023a8e3bd0343f4bf0384e7441c537a",
            "tooltip": ""
          }
        },
        "b79117128d7e4f098f9e10690af3fefc": {
          "model_module": "@jupyter-widgets/controls",
          "model_name": "ButtonModel",
          "model_module_version": "1.5.0",
          "state": {
            "_dom_classes": [],
            "_model_module": "@jupyter-widgets/controls",
            "_model_module_version": "1.5.0",
            "_model_name": "ButtonModel",
            "_view_count": null,
            "_view_module": "@jupyter-widgets/controls",
            "_view_module_version": "1.5.0",
            "_view_name": "ButtonView",
            "button_style": "",
            "description": ".",
            "disabled": false,
            "icon": "",
            "layout": "IPY_MODEL_b5545694984640c487398916f8b56959",
            "style": "IPY_MODEL_7f859879332d42b38f2b3cd0fa184abc",
            "tooltip": ""
          }
        },
        "8a011150d29a411b95ede8e9cdb8268d": {
          "model_module": "@jupyter-widgets/controls",
          "model_name": "ButtonModel",
          "model_module_version": "1.5.0",
          "state": {
            "_dom_classes": [],
            "_model_module": "@jupyter-widgets/controls",
            "_model_module_version": "1.5.0",
            "_model_name": "ButtonModel",
            "_view_count": null,
            "_view_module": "@jupyter-widgets/controls",
            "_view_module_version": "1.5.0",
            "_view_name": "ButtonView",
            "button_style": "",
            "description": "=",
            "disabled": false,
            "icon": "",
            "layout": "IPY_MODEL_b5545694984640c487398916f8b56959",
            "style": "IPY_MODEL_732b10dbd12e46cbbbf22f60fe5b8d0f",
            "tooltip": ""
          }
        },
        "c944fca1f98b41719473d541f0dd77da": {
          "model_module": "@jupyter-widgets/controls",
          "model_name": "ButtonModel",
          "model_module_version": "1.5.0",
          "state": {
            "_dom_classes": [],
            "_model_module": "@jupyter-widgets/controls",
            "_model_module_version": "1.5.0",
            "_model_name": "ButtonModel",
            "_view_count": null,
            "_view_module": "@jupyter-widgets/controls",
            "_view_module_version": "1.5.0",
            "_view_name": "ButtonView",
            "button_style": "",
            "description": "+",
            "disabled": false,
            "icon": "",
            "layout": "IPY_MODEL_b5545694984640c487398916f8b56959",
            "style": "IPY_MODEL_c187525ade944481a413ca5a560956f7",
            "tooltip": ""
          }
        },
        "61b4cea4173d4bf48ba14c4057a70242": {
          "model_module": "@jupyter-widgets/controls",
          "model_name": "ButtonModel",
          "model_module_version": "1.5.0",
          "state": {
            "_dom_classes": [],
            "_model_module": "@jupyter-widgets/controls",
            "_model_module_version": "1.5.0",
            "_model_name": "ButtonModel",
            "_view_count": null,
            "_view_module": "@jupyter-widgets/controls",
            "_view_module_version": "1.5.0",
            "_view_name": "ButtonView",
            "button_style": "",
            "description": "C",
            "disabled": false,
            "icon": "",
            "layout": "IPY_MODEL_b5545694984640c487398916f8b56959",
            "style": "IPY_MODEL_ecba976223fc4855b7842f3c9f74c750",
            "tooltip": ""
          }
        },
        "b5397370b18244cfb00fe4ea0c78b769": {
          "model_module": "@jupyter-widgets/base",
          "model_name": "LayoutModel",
          "model_module_version": "1.2.0",
          "state": {
            "_model_module": "@jupyter-widgets/base",
            "_model_module_version": "1.2.0",
            "_model_name": "LayoutModel",
            "_view_count": null,
            "_view_module": "@jupyter-widgets/base",
            "_view_module_version": "1.2.0",
            "_view_name": "LayoutView",
            "align_content": null,
            "align_items": null,
            "align_self": null,
            "border": null,
            "bottom": null,
            "display": null,
            "flex": null,
            "flex_flow": null,
            "grid_area": null,
            "grid_auto_columns": null,
            "grid_auto_flow": null,
            "grid_auto_rows": null,
            "grid_column": null,
            "grid_gap": "10px",
            "grid_row": null,
            "grid_template_areas": null,
            "grid_template_columns": "repeat(5, 60px)",
            "grid_template_rows": null,
            "height": null,
            "justify_content": null,
            "justify_items": null,
            "left": null,
            "margin": null,
            "max_height": null,
            "max_width": null,
            "min_height": null,
            "min_width": null,
            "object_fit": null,
            "object_position": null,
            "order": null,
            "overflow": null,
            "overflow_x": null,
            "overflow_y": null,
            "padding": null,
            "right": null,
            "top": null,
            "visibility": null,
            "width": null
          }
        },
        "b5545694984640c487398916f8b56959": {
          "model_module": "@jupyter-widgets/base",
          "model_name": "LayoutModel",
          "model_module_version": "1.2.0",
          "state": {
            "_model_module": "@jupyter-widgets/base",
            "_model_module_version": "1.2.0",
            "_model_name": "LayoutModel",
            "_view_count": null,
            "_view_module": "@jupyter-widgets/base",
            "_view_module_version": "1.2.0",
            "_view_name": "LayoutView",
            "align_content": null,
            "align_items": null,
            "align_self": null,
            "border": null,
            "bottom": null,
            "display": null,
            "flex": null,
            "flex_flow": null,
            "grid_area": null,
            "grid_auto_columns": null,
            "grid_auto_flow": null,
            "grid_auto_rows": null,
            "grid_column": null,
            "grid_gap": null,
            "grid_row": null,
            "grid_template_areas": null,
            "grid_template_columns": null,
            "grid_template_rows": null,
            "height": "60px",
            "justify_content": null,
            "justify_items": null,
            "left": null,
            "margin": "3px",
            "max_height": null,
            "max_width": null,
            "min_height": null,
            "min_width": null,
            "object_fit": null,
            "object_position": null,
            "order": null,
            "overflow": null,
            "overflow_x": null,
            "overflow_y": null,
            "padding": null,
            "right": null,
            "top": null,
            "visibility": null,
            "width": "60px"
          }
        },
        "659379e0d9f4456fa29353c9fb8ffca3": {
          "model_module": "@jupyter-widgets/controls",
          "model_name": "ButtonStyleModel",
          "model_module_version": "1.5.0",
          "state": {
            "_model_module": "@jupyter-widgets/controls",
            "_model_module_version": "1.5.0",
            "_model_name": "ButtonStyleModel",
            "_view_count": null,
            "_view_module": "@jupyter-widgets/base",
            "_view_module_version": "1.2.0",
            "_view_name": "StyleView",
            "button_color": "#0ABAB5",
            "font_weight": ""
          }
        },
        "456de6f48d3445dfb35a5f6ef42a7bef": {
          "model_module": "@jupyter-widgets/controls",
          "model_name": "ButtonStyleModel",
          "model_module_version": "1.5.0",
          "state": {
            "_model_module": "@jupyter-widgets/controls",
            "_model_module_version": "1.5.0",
            "_model_name": "ButtonStyleModel",
            "_view_count": null,
            "_view_module": "@jupyter-widgets/base",
            "_view_module_version": "1.2.0",
            "_view_name": "StyleView",
            "button_color": "#0ABAB5",
            "font_weight": ""
          }
        },
        "19b08495b71a4cada56b4fe3bd232e23": {
          "model_module": "@jupyter-widgets/controls",
          "model_name": "ButtonStyleModel",
          "model_module_version": "1.5.0",
          "state": {
            "_model_module": "@jupyter-widgets/controls",
            "_model_module_version": "1.5.0",
            "_model_name": "ButtonStyleModel",
            "_view_count": null,
            "_view_module": "@jupyter-widgets/base",
            "_view_module_version": "1.2.0",
            "_view_name": "StyleView",
            "button_color": "#0ABAB5",
            "font_weight": ""
          }
        },
        "447c8632cf7f443382def472fb33683a": {
          "model_module": "@jupyter-widgets/controls",
          "model_name": "ButtonStyleModel",
          "model_module_version": "1.5.0",
          "state": {
            "_model_module": "@jupyter-widgets/controls",
            "_model_module_version": "1.5.0",
            "_model_name": "ButtonStyleModel",
            "_view_count": null,
            "_view_module": "@jupyter-widgets/base",
            "_view_module_version": "1.2.0",
            "_view_name": "StyleView",
            "button_color": "#FF69B4",
            "font_weight": ""
          }
        },
        "7c1116d61f784eef99061ab40d13014f": {
          "model_module": "@jupyter-widgets/controls",
          "model_name": "ButtonStyleModel",
          "model_module_version": "1.5.0",
          "state": {
            "_model_module": "@jupyter-widgets/controls",
            "_model_module_version": "1.5.0",
            "_model_name": "ButtonStyleModel",
            "_view_count": null,
            "_view_module": "@jupyter-widgets/base",
            "_view_module_version": "1.2.0",
            "_view_name": "StyleView",
            "button_color": "#FF69B4",
            "font_weight": ""
          }
        },
        "109ceac2d8d44e2486c93bab9bc21984": {
          "model_module": "@jupyter-widgets/controls",
          "model_name": "ButtonStyleModel",
          "model_module_version": "1.5.0",
          "state": {
            "_model_module": "@jupyter-widgets/controls",
            "_model_module_version": "1.5.0",
            "_model_name": "ButtonStyleModel",
            "_view_count": null,
            "_view_module": "@jupyter-widgets/base",
            "_view_module_version": "1.2.0",
            "_view_name": "StyleView",
            "button_color": "#0ABAB5",
            "font_weight": ""
          }
        },
        "901681cde6b740d6afde446e1dda2cc6": {
          "model_module": "@jupyter-widgets/controls",
          "model_name": "ButtonStyleModel",
          "model_module_version": "1.5.0",
          "state": {
            "_model_module": "@jupyter-widgets/controls",
            "_model_module_version": "1.5.0",
            "_model_name": "ButtonStyleModel",
            "_view_count": null,
            "_view_module": "@jupyter-widgets/base",
            "_view_module_version": "1.2.0",
            "_view_name": "StyleView",
            "button_color": "#0ABAB5",
            "font_weight": ""
          }
        },
        "d00c3f198e1f4cd3a4876117ce5cfb02": {
          "model_module": "@jupyter-widgets/controls",
          "model_name": "ButtonStyleModel",
          "model_module_version": "1.5.0",
          "state": {
            "_model_module": "@jupyter-widgets/controls",
            "_model_module_version": "1.5.0",
            "_model_name": "ButtonStyleModel",
            "_view_count": null,
            "_view_module": "@jupyter-widgets/base",
            "_view_module_version": "1.2.0",
            "_view_name": "StyleView",
            "button_color": "#0ABAB5",
            "font_weight": ""
          }
        },
        "0c9e20f6e6f54116857936eaf32d50e3": {
          "model_module": "@jupyter-widgets/controls",
          "model_name": "ButtonStyleModel",
          "model_module_version": "1.5.0",
          "state": {
            "_model_module": "@jupyter-widgets/controls",
            "_model_module_version": "1.5.0",
            "_model_name": "ButtonStyleModel",
            "_view_count": null,
            "_view_module": "@jupyter-widgets/base",
            "_view_module_version": "1.2.0",
            "_view_name": "StyleView",
            "button_color": "#FF69B4",
            "font_weight": ""
          }
        },
        "6c829675b98a446c82b1e5f2d97c1daa": {
          "model_module": "@jupyter-widgets/controls",
          "model_name": "ButtonStyleModel",
          "model_module_version": "1.5.0",
          "state": {
            "_model_module": "@jupyter-widgets/controls",
            "_model_module_version": "1.5.0",
            "_model_name": "ButtonStyleModel",
            "_view_count": null,
            "_view_module": "@jupyter-widgets/base",
            "_view_module_version": "1.2.0",
            "_view_name": "StyleView",
            "button_color": "#FF69B4",
            "font_weight": ""
          }
        },
        "d29972cf888a4685932efabd2ac3679b": {
          "model_module": "@jupyter-widgets/controls",
          "model_name": "ButtonStyleModel",
          "model_module_version": "1.5.0",
          "state": {
            "_model_module": "@jupyter-widgets/controls",
            "_model_module_version": "1.5.0",
            "_model_name": "ButtonStyleModel",
            "_view_count": null,
            "_view_module": "@jupyter-widgets/base",
            "_view_module_version": "1.2.0",
            "_view_name": "StyleView",
            "button_color": "#0ABAB5",
            "font_weight": ""
          }
        },
        "abdc1815bbbb4d348089238d655320d3": {
          "model_module": "@jupyter-widgets/controls",
          "model_name": "ButtonStyleModel",
          "model_module_version": "1.5.0",
          "state": {
            "_model_module": "@jupyter-widgets/controls",
            "_model_module_version": "1.5.0",
            "_model_name": "ButtonStyleModel",
            "_view_count": null,
            "_view_module": "@jupyter-widgets/base",
            "_view_module_version": "1.2.0",
            "_view_name": "StyleView",
            "button_color": "#0ABAB5",
            "font_weight": ""
          }
        },
        "30af7d0bc3124339a231bb6a0e434178": {
          "model_module": "@jupyter-widgets/controls",
          "model_name": "ButtonStyleModel",
          "model_module_version": "1.5.0",
          "state": {
            "_model_module": "@jupyter-widgets/controls",
            "_model_module_version": "1.5.0",
            "_model_name": "ButtonStyleModel",
            "_view_count": null,
            "_view_module": "@jupyter-widgets/base",
            "_view_module_version": "1.2.0",
            "_view_name": "StyleView",
            "button_color": "#0ABAB5",
            "font_weight": ""
          }
        },
        "b543d907ec4a434ab53d93ea4017db15": {
          "model_module": "@jupyter-widgets/controls",
          "model_name": "ButtonStyleModel",
          "model_module_version": "1.5.0",
          "state": {
            "_model_module": "@jupyter-widgets/controls",
            "_model_module_version": "1.5.0",
            "_model_name": "ButtonStyleModel",
            "_view_count": null,
            "_view_module": "@jupyter-widgets/base",
            "_view_module_version": "1.2.0",
            "_view_name": "StyleView",
            "button_color": "#FF69B4",
            "font_weight": ""
          }
        },
        "e915e6e432ec43f1ba6924e8dcac2fcc": {
          "model_module": "@jupyter-widgets/controls",
          "model_name": "ButtonStyleModel",
          "model_module_version": "1.5.0",
          "state": {
            "_model_module": "@jupyter-widgets/controls",
            "_model_module_version": "1.5.0",
            "_model_name": "ButtonStyleModel",
            "_view_count": null,
            "_view_module": "@jupyter-widgets/base",
            "_view_module_version": "1.2.0",
            "_view_name": "StyleView",
            "button_color": "#FF69B4",
            "font_weight": ""
          }
        },
        "2023a8e3bd0343f4bf0384e7441c537a": {
          "model_module": "@jupyter-widgets/controls",
          "model_name": "ButtonStyleModel",
          "model_module_version": "1.5.0",
          "state": {
            "_model_module": "@jupyter-widgets/controls",
            "_model_module_version": "1.5.0",
            "_model_name": "ButtonStyleModel",
            "_view_count": null,
            "_view_module": "@jupyter-widgets/base",
            "_view_module_version": "1.2.0",
            "_view_name": "StyleView",
            "button_color": "#0ABAB5",
            "font_weight": ""
          }
        },
        "7f859879332d42b38f2b3cd0fa184abc": {
          "model_module": "@jupyter-widgets/controls",
          "model_name": "ButtonStyleModel",
          "model_module_version": "1.5.0",
          "state": {
            "_model_module": "@jupyter-widgets/controls",
            "_model_module_version": "1.5.0",
            "_model_name": "ButtonStyleModel",
            "_view_count": null,
            "_view_module": "@jupyter-widgets/base",
            "_view_module_version": "1.2.0",
            "_view_name": "StyleView",
            "button_color": "#0ABAB5",
            "font_weight": ""
          }
        },
        "732b10dbd12e46cbbbf22f60fe5b8d0f": {
          "model_module": "@jupyter-widgets/controls",
          "model_name": "ButtonStyleModel",
          "model_module_version": "1.5.0",
          "state": {
            "_model_module": "@jupyter-widgets/controls",
            "_model_module_version": "1.5.0",
            "_model_name": "ButtonStyleModel",
            "_view_count": null,
            "_view_module": "@jupyter-widgets/base",
            "_view_module_version": "1.2.0",
            "_view_name": "StyleView",
            "button_color": "#FF69B4",
            "font_weight": ""
          }
        },
        "c187525ade944481a413ca5a560956f7": {
          "model_module": "@jupyter-widgets/controls",
          "model_name": "ButtonStyleModel",
          "model_module_version": "1.5.0",
          "state": {
            "_model_module": "@jupyter-widgets/controls",
            "_model_module_version": "1.5.0",
            "_model_name": "ButtonStyleModel",
            "_view_count": null,
            "_view_module": "@jupyter-widgets/base",
            "_view_module_version": "1.2.0",
            "_view_name": "StyleView",
            "button_color": "#FF69B4",
            "font_weight": ""
          }
        },
        "ecba976223fc4855b7842f3c9f74c750": {
          "model_module": "@jupyter-widgets/controls",
          "model_name": "ButtonStyleModel",
          "model_module_version": "1.5.0",
          "state": {
            "_model_module": "@jupyter-widgets/controls",
            "_model_module_version": "1.5.0",
            "_model_name": "ButtonStyleModel",
            "_view_count": null,
            "_view_module": "@jupyter-widgets/base",
            "_view_module_version": "1.2.0",
            "_view_name": "StyleView",
            "button_color": "#FF69B4",
            "font_weight": ""
          }
        }
      }
    }
  },
  "cells": [
    {
      "cell_type": "markdown",
      "metadata": {
        "id": "view-in-github",
        "colab_type": "text"
      },
      "source": [
        "<a href=\"https://colab.research.google.com/github/AlmasKanwal/Scientific-Calculator-for-Gen-AI/blob/main/Scientific_Calculator.ipynb\" target=\"_parent\"><img src=\"https://colab.research.google.com/assets/colab-badge.svg\" alt=\"Open In Colab\"/></a>"
      ]
    },
    {
      "cell_type": "code",
      "source": [
        "import ipywidgets as widgets\n",
        "from IPython.display import display, HTML\n",
        "import math\n",
        "\n",
        "# Function to perform the calculation\n",
        "def calculate(expression):\n",
        "    try:\n",
        "        # Evaluates the entered expression\n",
        "        result = eval(expression)\n",
        "        output_text.value = str(result)\n",
        "    except Exception as e:\n",
        "        output_text.value = 'Error'\n",
        "\n",
        "# Function to handle button clicks\n",
        "def on_button_click(b):\n",
        "    if b.description == '=':\n",
        "        calculate(input_text.value)\n",
        "    elif b.description == 'C':\n",
        "        input_text.value = ''\n",
        "        output_text.value = ''\n",
        "    elif b.description == 'sqrt':\n",
        "        input_text.value = str(math.sqrt(float(input_text.value)))\n",
        "    elif b.description == 'pow':\n",
        "        input_text.value = str(math.pow(float(input_text.value), 2))\n",
        "    else:\n",
        "        input_text.value += b.description\n",
        "\n",
        "# Input text box for expression\n",
        "input_text = widgets.Text(\n",
        "    value='',\n",
        "    placeholder='Enter expression',\n",
        "    description='Expression:',\n",
        "    layout=widgets.Layout(width='400px')\n",
        ")\n",
        "\n",
        "# Output text box for result\n",
        "output_text = widgets.Text(\n",
        "    value='',\n",
        "    placeholder='Result',\n",
        "    description='Result:',\n",
        "    layout=widgets.Layout(width='400px')\n",
        ")\n",
        "\n",
        "# Button layout (rounded corners, shadows, spacing)\n",
        "button_layout = widgets.Layout(\n",
        "    width='60px', height='60px', border_radius='10px',\n",
        "    box_shadow='2px 2px 5px rgba(0, 0, 0, 0.2)', margin='3px'\n",
        ")\n",
        "\n",
        "# Style buttons with original colors\n",
        "number_button_style = {'button_color': '#0ABAB5'}  # Tiffany Blue\n",
        "operator_button_style = {'button_color': '#FF69B4'}  # Hot Pink\n",
        "\n",
        "# Define button labels and their styles\n",
        "buttons = [\n",
        "    ('7', number_button_style), ('8', number_button_style), ('9', number_button_style), ('/', operator_button_style), ('sqrt', operator_button_style),\n",
        "    ('4', number_button_style), ('5', number_button_style), ('6', number_button_style), ('*', operator_button_style), ('pow', operator_button_style),\n",
        "    ('1', number_button_style), ('2', number_button_style), ('3', number_button_style), ('-', operator_button_style), ('log', operator_button_style),\n",
        "    ('0', number_button_style), ('.', number_button_style), ('=', operator_button_style), ('+', operator_button_style), ('C', operator_button_style)\n",
        "]\n",
        "\n",
        "# Create button widgets\n",
        "button_widgets = [widgets.Button(description=label, layout=button_layout, style=style) for label, style in buttons]\n",
        "\n",
        "# Create a grid for buttons\n",
        "grid = widgets.GridBox(button_widgets, layout=widgets.Layout(\n",
        "    grid_template_columns='repeat(5, 60px)', grid_gap='10px'\n",
        "))\n",
        "\n",
        "# Heading and footer text using HTML\n",
        "heading = HTML(\"<h1 style='text-align: center; color: #0ABAB5;'>Scientific Calculator</h1>\")\n",
        "footer = HTML(\"<p style='text-align: center; color: #FF69B4;'>Made by Almas Kanwal</p>\")\n",
        "\n",
        "# Display heading, input, output, grid (buttons), and footer\n",
        "display(heading, input_text, output_text, grid, footer)\n",
        "\n",
        "# Attach button click handlers\n",
        "for btn in button_widgets:\n",
        "    btn.on_click(on_button_click)\n"
      ],
      "metadata": {
        "colab": {
          "base_uri": "https://localhost:8080/",
          "height": 458,
          "referenced_widgets": [
            "46e2a8173a9c44c4a2f651a635b094a6",
            "06658f17710a44f8b5990b4f640f5aac",
            "4a42c1fc487d4f76bcb91d2e16821df2",
            "44d5022357904949930c393a3fec114a",
            "e3d67f4ba240446cba032ee739cf08ba",
            "bb8528e350ec4852b19d8281563f75d3",
            "d46e034644c84f18b0701af11d6f7a6d",
            "bdee42d97fd4456b82205ec9d6b65112",
            "37aa6768993f4823a17769aed6bdca52",
            "f2ddd664a0024b068d2609ba938a0bde",
            "1606f77f0ec84a91a8d217de5b1641ec",
            "35fca7320b914fcb93585d9b9fc90192",
            "3c1b8fb5671f4d0882417b24788b91f0",
            "8eaf307df9a04bb5b66cc3a9b809b0bb",
            "bf73de4fe11a49b498e2317c2c5ab11c",
            "1afa2f7050a04d8db0db62b325189782",
            "95d7be5a3923479e80325f6e178fb39c",
            "b529ad9bfcb845a4a938831f1bd65527",
            "f1ba87951ea34c73a5e53ad60179ebe1",
            "65beec3f8aea43ec89ca6323c3924ad0",
            "92648fb9e356429fa9ef85d966f2d3bf",
            "dbd59842d5e94fa2a728b60aedfe88e9",
            "ae5f89b6a5364e728f57bf53295b75b8",
            "b79117128d7e4f098f9e10690af3fefc",
            "8a011150d29a411b95ede8e9cdb8268d",
            "c944fca1f98b41719473d541f0dd77da",
            "61b4cea4173d4bf48ba14c4057a70242",
            "b5397370b18244cfb00fe4ea0c78b769",
            "b5545694984640c487398916f8b56959",
            "659379e0d9f4456fa29353c9fb8ffca3",
            "456de6f48d3445dfb35a5f6ef42a7bef",
            "19b08495b71a4cada56b4fe3bd232e23",
            "447c8632cf7f443382def472fb33683a",
            "7c1116d61f784eef99061ab40d13014f",
            "109ceac2d8d44e2486c93bab9bc21984",
            "901681cde6b740d6afde446e1dda2cc6",
            "d00c3f198e1f4cd3a4876117ce5cfb02",
            "0c9e20f6e6f54116857936eaf32d50e3",
            "6c829675b98a446c82b1e5f2d97c1daa",
            "d29972cf888a4685932efabd2ac3679b",
            "abdc1815bbbb4d348089238d655320d3",
            "30af7d0bc3124339a231bb6a0e434178",
            "b543d907ec4a434ab53d93ea4017db15",
            "e915e6e432ec43f1ba6924e8dcac2fcc",
            "2023a8e3bd0343f4bf0384e7441c537a",
            "7f859879332d42b38f2b3cd0fa184abc",
            "732b10dbd12e46cbbbf22f60fe5b8d0f",
            "c187525ade944481a413ca5a560956f7",
            "ecba976223fc4855b7842f3c9f74c750"
          ]
        },
        "id": "M9fXqdqp-pOb",
        "outputId": "7ff4a453-1db8-4607-c2e6-8390e112995d"
      },
      "execution_count": 4,
      "outputs": [
        {
          "output_type": "display_data",
          "data": {
            "text/plain": [
              "<IPython.core.display.HTML object>"
            ],
            "text/html": [
              "<h1 style='text-align: center; color: #0ABAB5;'>Scientific Calculator</h1>"
            ]
          },
          "metadata": {}
        },
        {
          "output_type": "display_data",
          "data": {
            "text/plain": [
              "Text(value='', description='Expression:', layout=Layout(width='400px'), placeholder='Enter expression')"
            ],
            "application/vnd.jupyter.widget-view+json": {
              "version_major": 2,
              "version_minor": 0,
              "model_id": "46e2a8173a9c44c4a2f651a635b094a6"
            }
          },
          "metadata": {}
        },
        {
          "output_type": "display_data",
          "data": {
            "text/plain": [
              "Text(value='', description='Result:', layout=Layout(width='400px'), placeholder='Result')"
            ],
            "application/vnd.jupyter.widget-view+json": {
              "version_major": 2,
              "version_minor": 0,
              "model_id": "44d5022357904949930c393a3fec114a"
            }
          },
          "metadata": {}
        },
        {
          "output_type": "display_data",
          "data": {
            "text/plain": [
              "GridBox(children=(Button(description='7', layout=Layout(height='60px', margin='3px', width='60px'), style=Butt…"
            ],
            "application/vnd.jupyter.widget-view+json": {
              "version_major": 2,
              "version_minor": 0,
              "model_id": "d46e034644c84f18b0701af11d6f7a6d"
            }
          },
          "metadata": {}
        },
        {
          "output_type": "display_data",
          "data": {
            "text/plain": [
              "<IPython.core.display.HTML object>"
            ],
            "text/html": [
              "<p style='text-align: center; color: #FF69B4;'>Made by Almas Kanwal</p>"
            ]
          },
          "metadata": {}
        }
      ]
    },
    {
      "cell_type": "code",
      "source": [],
      "metadata": {
        "id": "cfQpXeQsCUfZ"
      },
      "execution_count": null,
      "outputs": []
    }
  ]
}